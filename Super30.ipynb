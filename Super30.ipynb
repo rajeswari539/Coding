{
  "nbformat": 4,
  "nbformat_minor": 0,
  "metadata": {
    "colab": {
      "provenance": [],
      "authorship_tag": "ABX9TyMFARPkhZBXS06kxhVEVEwP",
      "include_colab_link": true
    },
    "kernelspec": {
      "name": "python3",
      "display_name": "Python 3"
    },
    "language_info": {
      "name": "python"
    }
  },
  "cells": [
    {
      "cell_type": "markdown",
      "metadata": {
        "id": "view-in-github",
        "colab_type": "text"
      },
      "source": [
        "<a href=\"https://colab.research.google.com/github/rajeswari539/Coding/blob/master/Super30.ipynb\" target=\"_parent\"><img src=\"https://colab.research.google.com/assets/colab-badge.svg\" alt=\"Open In Colab\"/></a>"
      ]
    },
    {
      "cell_type": "markdown",
      "source": [
        "**\"split multiple digits\"**"
      ],
      "metadata": {
        "id": "gVO1WN8BVxKh"
      }
    },
    {
      "cell_type": "code",
      "execution_count": null,
      "metadata": {
        "colab": {
          "base_uri": "https://localhost:8080/"
        },
        "id": "Gs5l_U0RVpCJ",
        "outputId": "545c264f-2e3d-4262-8d47-e2b86f4359b2"
      },
      "outputs": [
        {
          "output_type": "stream",
          "name": "stdout",
          "text": [
            "[5, 3, 9, 5, 3, 8, 5, 3, 7]\n"
          ]
        }
      ],
      "source": [
        "n1 = [539,538,537]\n",
        "\n",
        "s = \"\"\n",
        "\n",
        "for i in  n1:\n",
        "\n",
        "    s += str(i)\n",
        "\n",
        "res=[]\n",
        "\n",
        "for i in  s:\n",
        "\n",
        "    res.append(int(i))\n",
        "\n",
        "print(res)"
      ]
    },
    {
      "cell_type": "markdown",
      "source": [
        "**Zero's in last place**(4-08-2023)"
      ],
      "metadata": {
        "id": "vV0LKRijquM6"
      }
    },
    {
      "cell_type": "code",
      "source": [
        "n=[1,2,3,0,5,0,3,0,7]\n",
        "n1=[]\n",
        "n2=[]\n",
        "for i in n:\n",
        "  if i==0:\n",
        "    n1.append(i)\n",
        "  else:\n",
        "    n2.append(i)\n",
        "print(n2+n1)"
      ],
      "metadata": {
        "colab": {
          "base_uri": "https://localhost:8080/"
        },
        "id": "2WyF6DMVq5Gf",
        "outputId": "6c6786cc-1262-4370-8a90-976c3cefcd0b"
      },
      "execution_count": 2,
      "outputs": [
        {
          "output_type": "stream",
          "name": "stdout",
          "text": [
            "[1, 2, 3, 5, 3, 7, 0, 0, 0]\n"
          ]
        }
      ]
    },
    {
      "cell_type": "markdown",
      "source": [
        "**String is Reverse order**(5-08-2023)"
      ],
      "metadata": {
        "id": "UPAvpIlQsn7j"
      }
    },
    {
      "cell_type": "code",
      "source": [
        "s=\"welcome to Nandyal\".split()\n",
        "s1=\"\"\n",
        "for i in s[::-1]:\n",
        "  s1+=i+\" \"\n",
        "p=s1[:-1]\n",
        "print(p)"
      ],
      "metadata": {
        "colab": {
          "base_uri": "https://localhost:8080/"
        },
        "id": "CCGRE5LasvMT",
        "outputId": "c4f64c57-b348-4ec7-f2fb-485156290ec4"
      },
      "execution_count": 7,
      "outputs": [
        {
          "output_type": "stream",
          "name": "stdout",
          "text": [
            "Nandyal to welcome\n"
          ]
        }
      ]
    }
  ]
}