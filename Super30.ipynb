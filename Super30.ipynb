{
  "nbformat": 4,
  "nbformat_minor": 0,
  "metadata": {
    "colab": {
      "provenance": [],
      "authorship_tag": "ABX9TyP69IiG2asU9EocKlCCmi0Y",
      "include_colab_link": true
    },
    "kernelspec": {
      "name": "python3",
      "display_name": "Python 3"
    },
    "language_info": {
      "name": "python"
    }
  },
  "cells": [
    {
      "cell_type": "markdown",
      "metadata": {
        "id": "view-in-github",
        "colab_type": "text"
      },
      "source": [
        "<a href=\"https://colab.research.google.com/github/rajeswari539/Coding/blob/master/Super30.ipynb\" target=\"_parent\"><img src=\"https://colab.research.google.com/assets/colab-badge.svg\" alt=\"Open In Colab\"/></a>"
      ]
    },
    {
      "cell_type": "markdown",
      "source": [
        "**\"split multiple digits\"**"
      ],
      "metadata": {
        "id": "gVO1WN8BVxKh"
      }
    },
    {
      "cell_type": "code",
      "execution_count": 1,
      "metadata": {
        "colab": {
          "base_uri": "https://localhost:8080/"
        },
        "id": "Gs5l_U0RVpCJ",
        "outputId": "545c264f-2e3d-4262-8d47-e2b86f4359b2"
      },
      "outputs": [
        {
          "output_type": "stream",
          "name": "stdout",
          "text": [
            "[5, 3, 9, 5, 3, 8, 5, 3, 7]\n"
          ]
        }
      ],
      "source": [
        "n1 = [539,538,537]\n",
        "\n",
        "s = \"\"\n",
        "\n",
        "for i in  n1:\n",
        "\n",
        "    s += str(i)\n",
        "\n",
        "res=[]\n",
        "\n",
        "for i in  s:\n",
        "\n",
        "    res.append(int(i))\n",
        "\n",
        "print(res)"
      ]
    }
  ]
}